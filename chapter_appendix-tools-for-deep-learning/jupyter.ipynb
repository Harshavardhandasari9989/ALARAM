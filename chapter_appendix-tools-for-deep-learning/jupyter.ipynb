{
  "cells": [
    {
      "cell_type": "code",
      "source": [
        "import pandas as pd\n",
        "import numpy as np"
      ],
      "metadata": {
        "id": "6FnL8bSusTXi"
      },
      "id": "6FnL8bSusTXi",
      "execution_count": 22,
      "outputs": []
    },
    {
      "cell_type": "code",
      "source": [
        "d=pd.read_csv('churn-bigml-80.csv')"
      ],
      "metadata": {
        "id": "ap_PgM_juLi2"
      },
      "id": "ap_PgM_juLi2",
      "execution_count": 23,
      "outputs": []
    },
    {
      "cell_type": "code",
      "source": [
        "d.info()"
      ],
      "metadata": {
        "id": "zXaGN9QFuhd9",
        "outputId": "c73da704-c34a-4082-d2e6-1f5714aad0ad",
        "colab": {
          "base_uri": "https://localhost:8080/"
        }
      },
      "id": "zXaGN9QFuhd9",
      "execution_count": 24,
      "outputs": [
        {
          "output_type": "stream",
          "name": "stdout",
          "text": [
            "<class 'pandas.core.frame.DataFrame'>\n",
            "RangeIndex: 2666 entries, 0 to 2665\n",
            "Data columns (total 20 columns):\n",
            " #   Column                  Non-Null Count  Dtype  \n",
            "---  ------                  --------------  -----  \n",
            " 0   State                   2666 non-null   object \n",
            " 1   Account length          2666 non-null   int64  \n",
            " 2   Area code               2666 non-null   int64  \n",
            " 3   International plan      2666 non-null   object \n",
            " 4   Voice mail plan         2666 non-null   object \n",
            " 5   Number vmail messages   2666 non-null   int64  \n",
            " 6   Total day minutes       2666 non-null   float64\n",
            " 7   Total day calls         2666 non-null   int64  \n",
            " 8   Total day charge        2666 non-null   float64\n",
            " 9   Total eve minutes       2666 non-null   float64\n",
            " 10  Total eve calls         2666 non-null   int64  \n",
            " 11  Total eve charge        2666 non-null   float64\n",
            " 12  Total night minutes     2666 non-null   float64\n",
            " 13  Total night calls       2666 non-null   int64  \n",
            " 14  Total night charge      2666 non-null   float64\n",
            " 15  Total intl minutes      2666 non-null   float64\n",
            " 16  Total intl calls        2666 non-null   int64  \n",
            " 17  Total intl charge       2666 non-null   float64\n",
            " 18  Customer service calls  2666 non-null   int64  \n",
            " 19  Churn                   2666 non-null   bool   \n",
            "dtypes: bool(1), float64(8), int64(8), object(3)\n",
            "memory usage: 398.5+ KB\n"
          ]
        }
      ]
    },
    {
      "cell_type": "code",
      "source": [
        "d.isnull().sum()"
      ],
      "metadata": {
        "id": "ugD1Y-jX1NIa",
        "outputId": "691871fb-b11b-480b-e6f0-15eb1da8946e",
        "colab": {
          "base_uri": "https://localhost:8080/",
          "height": 711
        }
      },
      "id": "ugD1Y-jX1NIa",
      "execution_count": 25,
      "outputs": [
        {
          "output_type": "execute_result",
          "data": {
            "text/plain": [
              "State                     0\n",
              "Account length            0\n",
              "Area code                 0\n",
              "International plan        0\n",
              "Voice mail plan           0\n",
              "Number vmail messages     0\n",
              "Total day minutes         0\n",
              "Total day calls           0\n",
              "Total day charge          0\n",
              "Total eve minutes         0\n",
              "Total eve calls           0\n",
              "Total eve charge          0\n",
              "Total night minutes       0\n",
              "Total night calls         0\n",
              "Total night charge        0\n",
              "Total intl minutes        0\n",
              "Total intl calls          0\n",
              "Total intl charge         0\n",
              "Customer service calls    0\n",
              "Churn                     0\n",
              "dtype: int64"
            ],
            "text/html": [
              "<div>\n",
              "<style scoped>\n",
              "    .dataframe tbody tr th:only-of-type {\n",
              "        vertical-align: middle;\n",
              "    }\n",
              "\n",
              "    .dataframe tbody tr th {\n",
              "        vertical-align: top;\n",
              "    }\n",
              "\n",
              "    .dataframe thead th {\n",
              "        text-align: right;\n",
              "    }\n",
              "</style>\n",
              "<table border=\"1\" class=\"dataframe\">\n",
              "  <thead>\n",
              "    <tr style=\"text-align: right;\">\n",
              "      <th></th>\n",
              "      <th>0</th>\n",
              "    </tr>\n",
              "  </thead>\n",
              "  <tbody>\n",
              "    <tr>\n",
              "      <th>State</th>\n",
              "      <td>0</td>\n",
              "    </tr>\n",
              "    <tr>\n",
              "      <th>Account length</th>\n",
              "      <td>0</td>\n",
              "    </tr>\n",
              "    <tr>\n",
              "      <th>Area code</th>\n",
              "      <td>0</td>\n",
              "    </tr>\n",
              "    <tr>\n",
              "      <th>International plan</th>\n",
              "      <td>0</td>\n",
              "    </tr>\n",
              "    <tr>\n",
              "      <th>Voice mail plan</th>\n",
              "      <td>0</td>\n",
              "    </tr>\n",
              "    <tr>\n",
              "      <th>Number vmail messages</th>\n",
              "      <td>0</td>\n",
              "    </tr>\n",
              "    <tr>\n",
              "      <th>Total day minutes</th>\n",
              "      <td>0</td>\n",
              "    </tr>\n",
              "    <tr>\n",
              "      <th>Total day calls</th>\n",
              "      <td>0</td>\n",
              "    </tr>\n",
              "    <tr>\n",
              "      <th>Total day charge</th>\n",
              "      <td>0</td>\n",
              "    </tr>\n",
              "    <tr>\n",
              "      <th>Total eve minutes</th>\n",
              "      <td>0</td>\n",
              "    </tr>\n",
              "    <tr>\n",
              "      <th>Total eve calls</th>\n",
              "      <td>0</td>\n",
              "    </tr>\n",
              "    <tr>\n",
              "      <th>Total eve charge</th>\n",
              "      <td>0</td>\n",
              "    </tr>\n",
              "    <tr>\n",
              "      <th>Total night minutes</th>\n",
              "      <td>0</td>\n",
              "    </tr>\n",
              "    <tr>\n",
              "      <th>Total night calls</th>\n",
              "      <td>0</td>\n",
              "    </tr>\n",
              "    <tr>\n",
              "      <th>Total night charge</th>\n",
              "      <td>0</td>\n",
              "    </tr>\n",
              "    <tr>\n",
              "      <th>Total intl minutes</th>\n",
              "      <td>0</td>\n",
              "    </tr>\n",
              "    <tr>\n",
              "      <th>Total intl calls</th>\n",
              "      <td>0</td>\n",
              "    </tr>\n",
              "    <tr>\n",
              "      <th>Total intl charge</th>\n",
              "      <td>0</td>\n",
              "    </tr>\n",
              "    <tr>\n",
              "      <th>Customer service calls</th>\n",
              "      <td>0</td>\n",
              "    </tr>\n",
              "    <tr>\n",
              "      <th>Churn</th>\n",
              "      <td>0</td>\n",
              "    </tr>\n",
              "  </tbody>\n",
              "</table>\n",
              "</div><br><label><b>dtype:</b> int64</label>"
            ]
          },
          "metadata": {},
          "execution_count": 25
        }
      ]
    },
    {
      "cell_type": "code",
      "source": [
        "import matplotlib.pyplot as plt\n",
        "import seaborn as sns"
      ],
      "metadata": {
        "id": "yFkwkhH61zYd"
      },
      "id": "yFkwkhH61zYd",
      "execution_count": 26,
      "outputs": []
    },
    {
      "cell_type": "code",
      "source": [
        "plt.figure(figsize=(10,10))\n",
        "plt.boxplot(d[\"Total day minutes\"])"
      ],
      "metadata": {
        "id": "rMSGjKyx13dB",
        "outputId": "bb25bd4f-b1b6-4265-e8e7-96f95d827c69",
        "colab": {
          "base_uri": "https://localhost:8080/",
          "height": 973
        }
      },
      "id": "rMSGjKyx13dB",
      "execution_count": 27,
      "outputs": [
        {
          "output_type": "execute_result",
          "data": {
            "text/plain": [
              "{'whiskers': [<matplotlib.lines.Line2D at 0x7a7afc0c2bd0>,\n",
              "  <matplotlib.lines.Line2D at 0x7a7afc123490>],\n",
              " 'caps': [<matplotlib.lines.Line2D at 0x7a7afc123f50>,\n",
              "  <matplotlib.lines.Line2D at 0x7a7afc12c9d0>],\n",
              " 'boxes': [<matplotlib.lines.Line2D at 0x7a7afc122210>],\n",
              " 'medians': [<matplotlib.lines.Line2D at 0x7a7afc12d4d0>],\n",
              " 'fliers': [<matplotlib.lines.Line2D at 0x7a7afc12de90>],\n",
              " 'means': []}"
            ]
          },
          "metadata": {},
          "execution_count": 27
        },
        {
          "output_type": "display_data",
          "data": {
            "text/plain": [
              "<Figure size 1000x1000 with 1 Axes>"
            ],
            "image/png": "[encoded data removed]"
          },
          "metadata": {}
        }
      ]
    },
    {
      "cell_type": "code",
      "source": [
        "d = d[(d[\"Total day minutes\"] > 50) & (d[\"Total day minutes\"] < 300)]"
      ],
      "metadata": {
        "id": "4UDjliCu3DoC"
      },
      "id": "4UDjliCu3DoC",
      "execution_count": 29,
      "outputs": []
    },
    {
      "cell_type": "code",
      "source": [
        "plt.figure(figsize=(10,10))\n",
        "plt.boxplot(d[\"Total day minutes\"])"
      ],
      "metadata": {
        "id": "pKMPeVg-3tEI",
        "outputId": "916157ea-bd8c-46b9-f1a1-d816608b5d2a",
        "colab": {
          "base_uri": "https://localhost:8080/",
          "height": 973
        }
      },
      "id": "pKMPeVg-3tEI",
      "execution_count": 30,
      "outputs": [
        {
          "output_type": "execute_result",
          "data": {
            "text/plain": [
              "{'whiskers': [<matplotlib.lines.Line2D at 0x7a7af7f393d0>,\n",
              "  <matplotlib.lines.Line2D at 0x7a7af7f39d90>],\n",
              " 'caps': [<matplotlib.lines.Line2D at 0x7a7af7f3a710>,\n",
              "  <matplotlib.lines.Line2D at 0x7a7af7f3b110>],\n",
              " 'boxes': [<matplotlib.lines.Line2D at 0x7a7af7f38990>],\n",
              " 'medians': [<matplotlib.lines.Line2D at 0x7a7af7f3bb50>],\n",
              " 'fliers': [<matplotlib.lines.Line2D at 0x7a7af7f40450>],\n",
              " 'means': []}"
            ]
          },
          "metadata": {},
          "execution_count": 30
        },
        {
          "output_type": "display_data",
          "data": {
            "text/plain": [
              "<Figure size 1000x1000 with 1 Axes>"
            ],
            "image/png": "[encoded data removed]"
          },
          "metadata": {}
        }
      ]
    },
    {
      "cell_type": "code",
      "source": [
        "plt.figure(figsize=(10,10))\n",
        "sns.countplot(d['Churn'])"
      ],
      "metadata": {
        "id": "9iD7XpRf4ppJ",
        "outputId": "0055d47f-21cf-49e2-c11b-97309e5b345b",
        "colab": {
          "base_uri": "https://localhost:8080/",
          "height": 848
        }
      },
      "id": "9iD7XpRf4ppJ",
      "execution_count": 34,
      "outputs": [
        {
          "output_type": "execute_result",
          "data": {
            "text/plain": [
              "<Axes: ylabel='count'>"
            ]
          },
          "metadata": {},
          "execution_count": 34
        },
        {
          "output_type": "display_data",
          "data": {
            "text/plain": [
              "<Figure size 1000x1000 with 1 Axes>"
            ],
            "image/png": "[encoded data removed]"
          },
          "metadata": {}
        }
      ]
    }
  ],
  "metadata": {
    "kernelspec": {
      "display_name": "Python 3",
      "name": "python3"
    },
    "language_info": {
      "name": "python"
    },
    "required_libs": [],
    "colab": {
      "provenance": []
    }
  },
  "nbformat": 4,
  "nbformat_minor": 5
}